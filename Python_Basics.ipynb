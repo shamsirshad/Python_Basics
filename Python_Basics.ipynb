{
  "nbformat": 4,
  "nbformat_minor": 0,
  "metadata": {
    "colab": {
      "provenance": []
    },
    "kernelspec": {
      "name": "python3",
      "display_name": "Python 3"
    },
    "language_info": {
      "name": "python"
    }
  },
  "cells": [
    {
      "cell_type": "markdown",
      "source": [
        "## ****Python Basics Questions****"
      ],
      "metadata": {
        "id": "rSUIYEnvBgWM"
      }
    },
    {
      "cell_type": "markdown",
      "source": [
        "# 1.What is Python, and why is it popular ?\n",
        "Ans : Python is a high level, interpreted and general purpose programming language known for its Simplicity and readability. it was created by guido Van Rossum and first released in 1991.\n",
        "\n",
        "Reason for Popular ⁉\n",
        "\n",
        "\n",
        "*   Python has simple syntex simple to natural Language.\n",
        "*   Python used in Various fields including Web development,data analysis,Artificial intelligence,Machine Learning, Scientific Computation,Automation etc.\n",
        "\n",
        "\n",
        "*   Python has extensive Standard Library and Vast collection of third Party Libraries such as Numphy,pandas,Matplotlib,Tensor Flow,PyTorch,Flask,Django,Selenium etc.\n",
        "*   Python can easily integrated with other languages ( Like C,C++,Java).\n",
        "\n",
        "\n",
        "\n",
        "\n",
        "\n"
      ],
      "metadata": {
        "id": "W0tVfbLaB2of"
      }
    },
    {
      "cell_type": "markdown",
      "source": [
        "# 2. What is an interpreter in Python ?\n",
        "\n",
        "Ans : An interpreter is a program that executes code directly, translates it into machine readable instructions line by line or statement by statement without requiring the code to be compiled into a seperate executable file beforehand.  "
      ],
      "metadata": {
        "id": "Xp-mfMErHYu9"
      }
    },
    {
      "cell_type": "markdown",
      "source": [
        "# 3.What are pre-defined keywords in Python ?\n",
        "\n",
        "Ans : In Python predefined keywords or simply Keywords are reserved words that can not be used in python as identifiers ( as Variable name, as function name ) because this has been part of Python Syntax.\n",
        "\n",
        "Below are the Python Keywords.\n",
        "\n",
        "['False', 'None', 'True', 'and', 'as', 'assert', 'async', 'await', 'break', 'class', 'continue', 'def', 'del', 'elif', 'else', 'except', 'finally', 'for', 'from', 'global', 'if', 'import', 'in', 'is', 'lambda', 'nonlocal', 'not', 'or', 'pass', 'raise', 'return', 'try', 'while', 'with', 'yield']\n",
        "\n",
        "Note that : python is case sensitive language."
      ],
      "metadata": {
        "id": "Vb9P0yXPJNcS"
      }
    },
    {
      "cell_type": "code",
      "source": [
        "import keyword\n",
        "print(keyword.kwlist)"
      ],
      "metadata": {
        "colab": {
          "base_uri": "https://localhost:8080/"
        },
        "id": "O8ZWzuvcECZr",
        "outputId": "d59699e3-f8d4-4b48-c1fd-4938bdecbdfb"
      },
      "execution_count": 2,
      "outputs": [
        {
          "output_type": "stream",
          "name": "stdout",
          "text": [
            "['False', 'None', 'True', 'and', 'as', 'assert', 'async', 'await', 'break', 'class', 'continue', 'def', 'del', 'elif', 'else', 'except', 'finally', 'for', 'from', 'global', 'if', 'import', 'in', 'is', 'lambda', 'nonlocal', 'not', 'or', 'pass', 'raise', 'return', 'try', 'while', 'with', 'yield']\n"
          ]
        }
      ]
    },
    {
      "cell_type": "markdown",
      "source": [
        "# 4.Can keywords be used as variable names ?\n",
        "\n",
        "Ans : No, Keywords are predefined Syntax in Python language so we can not used this as vriable Names neither as functions Names.\n",
        "\n",
        "Notes :\n",
        "\"if\" is Keyword in python so can not be used as variable but \"IF\" or \"If\" can be used as variable because python is case sensitives hence both is not a part of python keywords."
      ],
      "metadata": {
        "id": "KjfSfhQPLQxh"
      }
    },
    {
      "cell_type": "markdown",
      "source": [
        "# 5 .What is mutability in Python ?\n",
        "\n",
        "Ans : In Python, Objects can be changeable (mofifiable) or unchangeable (non Modifiable) after creation, Changeable objects are called Mutable objects and non Changeable objects are called immutable object.\n",
        "\n",
        "Mutable Objects : List , Dictionaries etc\n",
        "immutable Objects : Tuples,String etc"
      ],
      "metadata": {
        "id": "AK26ih8oM32s"
      }
    },
    {
      "cell_type": "markdown",
      "source": [
        "# 6.Why are lists mutable, but tuples are immutable ?\n",
        "\n",
        "Ans : List are suitable for collection of data that are expected to change during the program execution.Lists are meant for scenarios where you need to add, remove, modify elements, while execution of program. so list are mutable in character.so list in place avoids creating multiple copies,which is more memory efficient while working with large data sets.\n",
        "\n",
        "Tuples are intended for representing for fixed collections of items such as co ordinates, configuration or records where data should remains constasnt throughout the program.so list are immutable in character and more efficient and faster in exection because the Size and elements are fixed.immuatable insures that tuples are inherently thread safe."
      ],
      "metadata": {
        "id": "Ojm3WUO4R5Wz"
      }
    },
    {
      "cell_type": "markdown",
      "source": [
        "# 7. What is the difference between “==” and “is” operators in Python ?\n",
        "\n",
        "Ans : In Python \"==\" and \"is\" are two different operator :\n",
        "\n",
        "\"==\" or Equality operator is used to compare the data or content stored in object are the same or equal. it does not consider whether the object are stored in same memory or not.\n",
        "\n",
        "\"is\" operator is used to compare the variable or identity having the same memory address.\n",
        "\n",
        "eg  a = [ 1,2,3]\n",
        "    b = [ 1,2,3]\n",
        "\n",
        "    c=a\n",
        "\n",
        "    print ( a is b ) # output : False\n",
        "    print( a is c ) #output : True\n",
        "\n",
        "\n",
        "\n"
      ],
      "metadata": {
        "id": "3K5YX-CAYIzW"
      }
    },
    {
      "cell_type": "markdown",
      "source": [
        "# 8.What are logical operators in Python ?\n",
        "\n",
        "Ans : Logical operator are used to combine conditional statement or expression commonly used in decision making.\n",
        "\n",
        "There are thre types of Logical operator : and, or, not\n",
        "\n",
        "and : Return true if both condition is true : eg x > 5 and x < 10\n",
        "or : Return true if at least one condition is true : eg x > 5 or x < 3\n",
        "not : Reverse true Value of the condition : eg not( x > 5 )\n",
        "\n"
      ],
      "metadata": {
        "id": "LVF1UtSBcewa"
      }
    },
    {
      "cell_type": "markdown",
      "source": [
        "# 9.What is type casting in Python ?\n",
        "\n",
        "Ans : Type Casting also referred as type conveersion in Python, is the Process that allows data type to change from one to another data type. this is oftenly used to set the compatability between different data types during operation to meet the specific program requirements.\n",
        "\n",
        "There are two types of type casting :\n",
        "**1. implicit type casting**\n",
        "**2. Explicit type casting**\n",
        "\n",
        "##**1.Implicit Type casting :**\n",
        "\n",
        "Perform Python by Automatically,It happens when opration performs between two or more data types. eg Float and integer\n",
        "\n",
        "##**2.Explicit Type Casting :**\n",
        "\n",
        "Perform manually by the programmer using built in Function as it needs to execute the operation.\n",
        "\n",
        "\n"
      ],
      "metadata": {
        "id": "IgjU7zyffXfk"
      }
    },
    {
      "cell_type": "markdown",
      "source": [
        "# 10.What is the difference between implicit and explicit type casting ?\n",
        "\n",
        "Ans :\n",
        "\n",
        "#### Implicit Type Casting :  \n",
        "Perform Python by Automatically,It happens when opration performs between two different data types. eg integer to Float during Arithmatic operations.\n",
        "\n",
        "eg :\n",
        "x = 103   # Integer\n",
        "y = 7.5  # Float\n",
        "result = x + y  # Python automatically converts `x` to a float\n",
        "print(result)  # Output: 110.5\n",
        "print(type(result))  # Output: <class 'float'>\n",
        "\n",
        "\n",
        "#### Explicit Type Casting :  \n",
        "Perform manually by the programmer using built in Function as it needs to execute the operation.\n",
        "\n",
        "eg:\n",
        "x = \"123\"  # String\n",
        "y = int(x)  # Convert string to integer\n",
        "print(y)  # Output: 123\n",
        "print(type(y))  # Output: <class 'int'>\n",
        "\n",
        "\n"
      ],
      "metadata": {
        "id": "g7Jzv8C2l-xD"
      }
    },
    {
      "cell_type": "markdown",
      "source": [
        "# 11. What is the purpose of conditional statements in Python ?\n",
        "\n",
        "Ans :    The purpose of conditional statements in Python is to enable decision-making in programs. They allow the program to execute specific blocks of code based on whether certain conditions are True or False. This makes programs dynamic, flexible, and capable of responding to different inputs or situations.\n",
        "\n",
        "#### Types of Conditional Statements in Python:\n",
        "* if Statement: Executes a block of code if a condition is True.\n",
        "* if-else Statement: Provides an alternative block of code to execute when the condition is False.\n",
        "* if-elif-else Statement: Allows multiple conditions to be tested sequentially.\n",
        "* Nested if Statements: Enables conditions within conditions for complex decision-making.\n"
      ],
      "metadata": {
        "id": "zncngbDtp9Rc"
      }
    },
    {
      "cell_type": "markdown",
      "source": [
        "# 12. How does the elif statement work ?\n",
        "\n",
        "Ans :   The elif (short for \"else if\") statement in Python is used to check multiple conditions in sequence. It provides an alternative block of code to execute when the previous if or elif conditions are False, and the elif condition is True.\n",
        "\n",
        "The elif statement is typically used after an if statement to check additional conditions if the first one is not met. You can have multiple elif statements, each checking a different condition, followed by an optional else statement to handle all other cases.\n",
        "\n",
        "How it works :   \n",
        "* First Condition (if): Python evaluates the first if condition. If it's True, the corresponding block of code is executed, and the rest of the conditions are skipped.\n",
        "* Subsequent Conditions (elif): If the if condition is False, Python checks the elif conditions in the order they appear. The first elif condition that evaluates to True will execute its block of code.\n",
        "* Final Fallback (else): If none of the if or elif conditions are True, the else block (if present) will execute.\n"
      ],
      "metadata": {
        "id": "NGXWQwJKsEjU"
      }
    },
    {
      "cell_type": "markdown",
      "source": [
        "# 13. What is the difference between for and while loops ?\n",
        "\n",
        "Ans : Both for and while loops are used to repeat a block of code multiple times in Python, but they differ in how they determine when to stop looping.\n",
        "\n",
        "# for loops :\n",
        "The for loop is used when the number of iterations is known or determined by a sequence (e.g., a list, string, range, etc.).\n",
        "The loop iterates over a sequence (like a list, string, tuple, or range) and executes the block of code for each item in the sequence.\n",
        "\n",
        "# while Loops :    \n",
        "The while loop is used when the number of iterations is not known beforehand, and the loop runs as long as a condition is True.The loop will continue to execute as long as the condition remains True. If the condition is False at the start, the loop will not run at all."
      ],
      "metadata": {
        "id": "zna6N2_Kt3Cw"
      }
    },
    {
      "cell_type": "markdown",
      "source": [
        "# 14. Describe a scenario where a while loop is more suitable than a for loop ?\n",
        "\n",
        "Ans : A while loop is more suitable when we want to repeat an action until a specific condition is met, especially when the number of iterations is not predetermined. One common example is waiting for valid user input, where we want to keep prompting the user until they provide the correct input.\n",
        "\n",
        "Scenario Description:\n",
        "we want to ask the user for their password, but we don't know how many attempts it will take before they enter the correct one. The program should continue prompting the user until they enter the correct password, and only then should it proceed.\n",
        "\n",
        "In this case, a while loop is ideal because we are checking a condition and continuing the loop as long as the condition is False. We don’t know how many attempts it will take, so a while loop works better than a for loop, which is generally used when the number of iterations is known or finite.\n",
        "\n",
        "A for loop is generally not suitable in this case because we don’t know how many attempts the user will need, and it’s difficult to structure a for loop without a fixed sequence or a predefined number of iterations. If we used a for loop here, we would either have to limit the number of attempts (which isn't ideal) or use an artificial range, both of which aren't as flexible as a while loop."
      ],
      "metadata": {
        "id": "F-ejzpVVvyCz"
      }
    },
    {
      "cell_type": "markdown",
      "source": [
        "# **Practical Questions**"
      ],
      "metadata": {
        "id": "prlS_56nyTuB"
      }
    },
    {
      "cell_type": "markdown",
      "source": [
        "**1 .Write a Python program to print \"Hello, World!\" ?**\n"
      ],
      "metadata": {
        "id": "mGgPXGOXzExz"
      }
    },
    {
      "cell_type": "code",
      "source": [
        "print(\"Hello, World!\")"
      ],
      "metadata": {
        "colab": {
          "base_uri": "https://localhost:8080/"
        },
        "id": "Vp7yPWX4zRds",
        "outputId": "bbace88e-5082-4072-dffe-3f06fb25c0a4"
      },
      "execution_count": 4,
      "outputs": [
        {
          "output_type": "stream",
          "name": "stdout",
          "text": [
            "Hello, World!\n"
          ]
        }
      ]
    },
    {
      "cell_type": "markdown",
      "source": [
        "**2. Write a Python program that displays your name and age ?**"
      ],
      "metadata": {
        "id": "dj7gK0FVzifu"
      }
    },
    {
      "cell_type": "code",
      "source": [
        "name = \"Md Shams Irshad\"\n",
        "age = 29\n",
        "print(\"My Name is:\",name, \"and my Age is:\", age, \"Years\")"
      ],
      "metadata": {
        "colab": {
          "base_uri": "https://localhost:8080/"
        },
        "id": "LPKFT3TWzY7x",
        "outputId": "9df1bf96-13a3-454a-b0a5-6f0fa843c018"
      },
      "execution_count": 14,
      "outputs": [
        {
          "output_type": "stream",
          "name": "stdout",
          "text": [
            "My Name is: Md Shams Irshad and my Age is: 29 Years\n"
          ]
        }
      ]
    },
    {
      "cell_type": "markdown",
      "source": [
        "**3. Write code to print all the pre-defined keywords in Python using the keyword library ?**"
      ],
      "metadata": {
        "id": "3w038LH706Ti"
      }
    },
    {
      "cell_type": "code",
      "source": [
        "import keyword\n",
        "print(keyword.kwlist)"
      ],
      "metadata": {
        "colab": {
          "base_uri": "https://localhost:8080/"
        },
        "id": "rZGj-NfJz_X_",
        "outputId": "90b6135e-beed-43fa-a76e-75d953ee1476"
      },
      "execution_count": 17,
      "outputs": [
        {
          "output_type": "stream",
          "name": "stdout",
          "text": [
            "['False', 'None', 'True', 'and', 'as', 'assert', 'async', 'await', 'break', 'class', 'continue', 'def', 'del', 'elif', 'else', 'except', 'finally', 'for', 'from', 'global', 'if', 'import', 'in', 'is', 'lambda', 'nonlocal', 'not', 'or', 'pass', 'raise', 'return', 'try', 'while', 'with', 'yield']\n"
          ]
        }
      ]
    },
    {
      "cell_type": "markdown",
      "source": [
        "**4.Write a program that checks if a given word is a Python keyword ?**"
      ],
      "metadata": {
        "id": "prvDK7TQ2LRW"
      }
    },
    {
      "cell_type": "code",
      "source": [
        "import keyword\n",
        "def check_keyword(word):\n",
        "    if keyword.iskeyword(word):\n",
        "        print(f\"'{word}' is a Python keyword.\")\n",
        "    else:\n",
        "        print(f\"'{word}' is not a Python keyword.\")\n",
        "word = input(\"Enter a word to check if it's a Python keyword: \")\n",
        "check_keyword(word)\n"
      ],
      "metadata": {
        "colab": {
          "base_uri": "https://localhost:8080/"
        },
        "id": "F0vtllhb1k_A",
        "outputId": "7b3e7644-9a6e-42be-a019-f16ff21d219e"
      },
      "execution_count": 25,
      "outputs": [
        {
          "output_type": "stream",
          "name": "stdout",
          "text": [
            "Enter a word to check if it's a Python keyword: if\n",
            "'if' is a Python keyword.\n"
          ]
        }
      ]
    },
    {
      "cell_type": "markdown",
      "source": [
        "**5. Create a list and tuple in Python, and demonstrate how attempting to change an element works differently\n",
        "for each ?**"
      ],
      "metadata": {
        "id": "YBrQL0lA37rj"
      }
    },
    {
      "cell_type": "code",
      "source": [
        "#creating a list and a tuple\n",
        "my_list = [1,2,3,4]\n",
        "my_tuple = (1,2,3,4)\n",
        "\n",
        "print(\"Original list\", my_list)\n",
        "print(\"original tuple\",my_tuple)\n",
        "\n",
        "#attempting to change in list :\n",
        "my_list[2]=99\n",
        "print(\"Modified list\", my_list)\n",
        "# List is changed now because this is mutable in nature\n",
        "\n",
        "\n",
        "#attempting to change in Tuple :\n",
        "try:\n",
        "#creating a list and a tuple\n",
        "my_list = [1,2,3,4]\n",
        "my_tuple = (1,2,3,4)\n",
        "\n",
        "print(\"Original list\", my_list)\n",
        "print(\"original tuple\",my_tuple)\n",
        "\n",
        "#attempting to change in list :\n",
        "my_list[2]=99\n",
        "print(\"Modified list\", my_list)\n",
        "# List is changed now because this is mutable in nature\n",
        "\n",
        "\n",
        "#attempting to change in Tuple :\n",
        "try:\n",
        "  my_tuple[2]= 99\n",
        "except TypeError:\n",
        "  print(\"TypeError\")\n",
        "# this will give an error because tuple are immutable in nature hence we can not change once we define the variable in tuple."
      ],
      "metadata": {
        "colab": {
          "base_uri": "https://localhost:8080/",
          "height": 106
        },
        "id": "98ENBnuX4ClD",
        "outputId": "fda6e12a-a1de-4568-e2d4-d5ed9c3fe18e"
      },
      "execution_count": 36,
      "outputs": [
        {
          "output_type": "error",
          "ename": "SyntaxError",
          "evalue": "incomplete input (<ipython-input-36-1a91494a1cc6>, line 18)",
          "traceback": [
            "\u001b[0;36m  File \u001b[0;32m\"<ipython-input-36-1a91494a1cc6>\"\u001b[0;36m, line \u001b[0;32m18\u001b[0m\n\u001b[0;31m    # this will give an error because tuple are immutable in nature hence we can not change once we define the variable in tuple.\u001b[0m\n\u001b[0m                                                                                                                                 ^\u001b[0m\n\u001b[0;31mSyntaxError\u001b[0m\u001b[0;31m:\u001b[0m incomplete input\n"
          ]
        }
      ]
    },
    {
      "cell_type": "markdown",
      "source": [
        "**6. Write a function to demonstrate the behavior of mutable and immutable arguments ?**"
      ],
      "metadata": {
        "id": "VxE4VTnU8Jcm"
      }
    },
    {
      "cell_type": "code",
      "source": [
        "# Function to demonstrate mutable and immutable argument behavior\n",
        "def modify_arguments(immutable_arg, mutable_arg):\n",
        "    # Immutable argument (integer)\n",
        "    print(f\"Before modification, immutable_arg: {immutable_arg}\")\n",
        "    immutable_arg += 5  # Trying to modify the immutable argument (won't affect the original)\n",
        "    print(f\"After modification, immutable_arg: {immutable_arg}\")\n",
        "\n",
        "    # Mutable argument (list)\n",
        "    print(f\"Before modification, mutable_arg: {mutable_arg}\")\n",
        "    mutable_arg.append(100)  # Modifying the mutable argument (this will affect the original)\n",
        "    print(f\"After modification, mutable_arg: {mutable_arg}\")\n",
        "\n",
        "\n",
        "# Calling the function with an integer (immutable) and a list (mutable)\n",
        "num = 10\n",
        "my_list = [1, 2, 3]\n",
        "\n",
        "modify_arguments(num, my_list)\n",
        "\n",
        "# Show the values outside the function to see the effects\n",
        "print(f\"Outside function, num: {num}\")  # Immutable argument remains unchanged\n",
        "print(f\"Outside function, my_list: {my_list}\")  # Mutable argument is changed"
      ],
      "metadata": {
        "colab": {
          "base_uri": "https://localhost:8080/"
        },
        "id": "MvUPdG26Lwtu",
        "outputId": "872ff00e-da3b-4123-f0bc-018d602408dd"
      },
      "execution_count": 56,
      "outputs": [
        {
          "output_type": "stream",
          "name": "stdout",
          "text": [
            "Before modification, immutable_arg: 10\n",
            "After modification, immutable_arg: 15\n",
            "Before modification, mutable_arg: [1, 2, 3]\n",
            "After modification, mutable_arg: [1, 2, 3, 100]\n",
            "Outside function, num: 10\n",
            "Outside function, my_list: [1, 2, 3, 100]\n"
          ]
        }
      ]
    },
    {
      "cell_type": "markdown",
      "source": [
        "**7.Write a function to demonstrate the behavior of mutable and immutable arguments ?**\n",
        "\n",
        "Ans : Repeated Questions (so same Answer as above explained in Question 6th)"
      ],
      "metadata": {
        "id": "DYrDMRxv-Dyi"
      }
    },
    {
      "cell_type": "code",
      "source": [
        "# Function to demonstrate mutable and immutable argument behavior\n",
        "def modify_arguments(immutable_arg, mutable_arg):\n",
        "    # Immutable argument (integer)\n",
        "    print(f\"Before modification, immutable_arg: {immutable_arg}\")\n",
        "    immutable_arg += 5  # Trying to modify the immutable argument (won't affect the original)\n",
        "    print(f\"After modification, immutable_arg: {immutable_arg}\")\n",
        "\n",
        "    # Mutable argument (list)\n",
        "    print(f\"Before modification, mutable_arg: {mutable_arg}\")\n",
        "    mutable_arg.append(100)  # Modifying the mutable argument (this will affect the original)\n",
        "    print(f\"After modification, mutable_arg: {mutable_arg}\")\n",
        "\n",
        "\n",
        "# Calling the function with an integer (immutable) and a list (mutable)\n",
        "num = 10\n",
        "my_list = [1, 2, 3]\n",
        "\n",
        "modify_arguments(num, my_list)\n",
        "\n",
        "# Show the values outside the function to see the effects\n",
        "print(f\"Outside function, num: {num}\")  # Immutable argument remains unchanged\n",
        "print(f\"Outside function, my_list: {my_list}\")  # Mutable argument is changed\n"
      ],
      "metadata": {
        "id": "IX9CwEOiL6A5"
      },
      "execution_count": null,
      "outputs": []
    },
    {
      "cell_type": "markdown",
      "source": [
        "**8.Write a program to demonstrate the use of logical operators ?**"
      ],
      "metadata": {
        "id": "xILy8Mpv-oG4"
      }
    },
    {
      "cell_type": "code",
      "source": [
        "# Function to demonstrate logical operators\n",
        "def check_conditions(a, b):\n",
        "    print(f\"Checking conditions with a = {a} and b = {b}:\")\n",
        "\n",
        "    # Using 'and' operator: True if both conditions are True\n",
        "    if a > 0 and b > 0:\n",
        "        print(\"Both a and b are positive.\")\n",
        "    else:\n",
        "        print(\"At least one of a or b is not positive.\")\n",
        "\n",
        "    # Using 'or' operator: True if at least one condition is True\n",
        "    if a > 0 or b > 0:\n",
        "        print(\"At least one of a or b is positive.\")\n",
        "    else:\n",
        "        print(\"Neither a nor b is positive.\")\n",
        "\n",
        "    # Using 'not' operator: Reverses the condition\n",
        "    if not (a < 0):\n",
        "        print(\"a is not negative.\")\n",
        "    else:\n",
        "        print(\"a is negative.\")\n",
        "\n",
        "# Test cases\n",
        "check_conditions(5, 10)  # Both positive\n",
        "print()\n",
        "check_conditions(-5, 10)  # a is negative\n",
        "print()\n",
        "check_conditions(0, -3)  # b is negative\n"
      ],
      "metadata": {
        "colab": {
          "base_uri": "https://localhost:8080/"
        },
        "id": "9xt8H6wG-wZ7",
        "outputId": "b7e45eb2-3ec4-491d-9da4-877d70088d94"
      },
      "execution_count": 37,
      "outputs": [
        {
          "output_type": "stream",
          "name": "stdout",
          "text": [
            "Checking conditions with a = 5 and b = 10:\n",
            "Both a and b are positive.\n",
            "At least one of a or b is positive.\n",
            "a is not negative.\n",
            "\n",
            "Checking conditions with a = -5 and b = 10:\n",
            "At least one of a or b is not positive.\n",
            "At least one of a or b is positive.\n",
            "a is negative.\n",
            "\n",
            "Checking conditions with a = 0 and b = -3:\n",
            "At least one of a or b is not positive.\n",
            "Neither a nor b is positive.\n",
            "a is not negative.\n"
          ]
        }
      ]
    },
    {
      "cell_type": "markdown",
      "source": [
        "**9. Write a Python program to convert user input from string to integer, float, and boolean types ?**"
      ],
      "metadata": {
        "id": "JRKCICOGApnc"
      }
    },
    {
      "cell_type": "code",
      "source": [
        "# Function to convert user input to different types\n",
        "def convert_input():\n",
        "    # Getting user input as a string\n",
        "    user_input = input(\"Enter a value: \")\n",
        "\n",
        "    # Convert to integer\n",
        "    try:\n",
        "        integer_value = int(user_input)\n",
        "        print(f\"Converted to integer: {integer_value}\")\n",
        "    except ValueError:\n",
        "        print(\"Error: Cannot convert to integer.\")\n",
        "\n",
        "    # Convert to float\n",
        "    try:\n",
        "        float_value = float(user_input)\n",
        "        print(f\"Converted to float: {float_value}\")\n",
        "    except ValueError:\n",
        "        print(\"Error: Cannot convert to float.\")\n",
        "\n",
        "    # Convert to boolean\n",
        "    # For boolean conversion, empty string, \"0\", or \"false\" will be considered False.\n",
        "    if user_input.lower() in ['true', '1', 'yes']:\n",
        "        boolean_value = True\n",
        "    else:\n",
        "        boolean_value = False\n",
        "    print(f\"Converted to boolean: {boolean_value}\")\n",
        "\n",
        "# Call the function to perform conversions\n",
        "convert_input()\n"
      ],
      "metadata": {
        "colab": {
          "base_uri": "https://localhost:8080/"
        },
        "id": "F99pX1eo_d1w",
        "outputId": "da282318-3dba-4821-85f4-a8bb17eae909"
      },
      "execution_count": 47,
      "outputs": [
        {
          "output_type": "stream",
          "name": "stdout",
          "text": [
            "Enter a value: 7.7\n",
            "Error: Cannot convert to integer.\n",
            "Converted to float: 7.7\n",
            "Converted to boolean: False\n"
          ]
        }
      ]
    },
    {
      "cell_type": "markdown",
      "source": [
        "**10.Write code to demonstrate type casting with list elements ?**"
      ],
      "metadata": {
        "id": "t_zO9StOBm5V"
      }
    },
    {
      "cell_type": "code",
      "source": [
        "# Original list with string elements\n",
        "data_list = [\"10\", \"3.14\", \"True\", \"hello\", \"0\"]\n",
        "print(\"Original List:\", data_list)\n",
        "\n",
        "# Convert to integers\n",
        "int_list = []\n",
        "for item in data_list:\n",
        "    try:\n",
        "        int_list.append(int(float(item)))  # Handles numeric strings\n",
        "    except ValueError:\n",
        "        int_list.append(None)  # Add None if conversion fails\n",
        "print(\"Converted to integers:\", int_list)\n",
        "\n",
        "# Convert to floats\n",
        "float_list = []\n",
        "for item in data_list:\n",
        "    try:\n",
        "        float_list.append(float(item))\n",
        "    except ValueError:\n",
        "        float_list.append(None)\n",
        "print(\"Converted to floats:\", float_list)\n",
        "\n",
        "# Convert to booleans\n",
        "bool_list = [bool(item) for item in data_list]\n",
        "print(\"Converted to booleans:\", bool_list)\n",
        "\n",
        "# Convert to strings\n",
        "str_list = [str(item) for item in data_list]\n",
        "print(\"Converted to strings:\", str_list)"
      ],
      "metadata": {
        "colab": {
          "base_uri": "https://localhost:8080/"
        },
        "id": "gxtVaVddENiD",
        "outputId": "f76e4162-4cec-4dc6-9a30-8edd85ad5130"
      },
      "execution_count": 44,
      "outputs": [
        {
          "output_type": "stream",
          "name": "stdout",
          "text": [
            "Original List: ['10', '3.14', 'True', 'hello', '0']\n",
            "Converted to integers: [10, 3, None, None, 0]\n",
            "Converted to floats: [10.0, 3.14, None, None, 0.0]\n",
            "Converted to booleans: [True, True, True, True, True]\n",
            "Converted to strings: ['10', '3.14', 'True', 'hello', '0']\n"
          ]
        }
      ]
    },
    {
      "cell_type": "markdown",
      "source": [
        "**11.Write a program that checks if a number is positive, negative, or zero ?**"
      ],
      "metadata": {
        "id": "fqLJ-rm9F8nN"
      }
    },
    {
      "cell_type": "code",
      "source": [
        "# Get input from the user\n",
        "number = float(input(\"Enter a number: \"))\n",
        "\n",
        "# Check if the number is positive, negative, or zero\n",
        "if number > 0:\n",
        "    print(\"The number is positive.\")\n",
        "elif number < 0:\n",
        "    print(\"The number is negative.\")\n",
        "else:\n",
        "    print(\"The number is zero.\")"
      ],
      "metadata": {
        "colab": {
          "base_uri": "https://localhost:8080/"
        },
        "id": "yDxzKAR1FmFW",
        "outputId": "b8c3ef26-8ffe-4c43-e2f3-644bbd6ee4cc"
      },
      "execution_count": 45,
      "outputs": [
        {
          "output_type": "stream",
          "name": "stdout",
          "text": [
            "Enter a number: 11\n",
            "The number is positive.\n"
          ]
        }
      ]
    },
    {
      "cell_type": "markdown",
      "source": [
        "**12.Write a for loop to print numbers from 1 to 10 ?**"
      ],
      "metadata": {
        "id": "D41_SMM7GrpO"
      }
    },
    {
      "cell_type": "code",
      "source": [
        "# Using a for loop to print numbers from 1 to 10\n",
        "for number in range(1, 11):\n",
        "    print(number)"
      ],
      "metadata": {
        "colab": {
          "base_uri": "https://localhost:8080/"
        },
        "id": "hxqhPUOgGOcv",
        "outputId": "46708c17-7820-4a3b-9980-6c4c98d5a2dd"
      },
      "execution_count": 55,
      "outputs": [
        {
          "output_type": "stream",
          "name": "stdout",
          "text": [
            "1\n",
            "2\n",
            "3\n",
            "4\n",
            "5\n",
            "6\n",
            "7\n",
            "8\n",
            "9\n",
            "10\n"
          ]
        }
      ]
    },
    {
      "cell_type": "markdown",
      "source": [
        "**13.Write a Python program to find the sum of all even numbers between 1 and 50**"
      ],
      "metadata": {
        "id": "p7hEquUVHMfN"
      }
    },
    {
      "cell_type": "code",
      "source": [
        "# Creating a variable to store the sum value\n",
        "sum_of_evens = 0\n",
        "\n",
        "# Use Loop through numbers from 1 to 50\n",
        "for number in range(1, 51):\n",
        "    if number % 2 == 0:  # Check if the number is even\n",
        "        sum_of_evens += number\n",
        "\n",
        "# Print the result\n",
        "print(\"The sum of all even numbers between 1 and 50 is:\", sum_of_evens)"
      ],
      "metadata": {
        "colab": {
          "base_uri": "https://localhost:8080/"
        },
        "id": "nn9N5ngVGoe0",
        "outputId": "02ef60bb-36d8-4a3b-9115-a1918dd44af4"
      },
      "execution_count": 54,
      "outputs": [
        {
          "output_type": "stream",
          "name": "stdout",
          "text": [
            "The sum of all even numbers between 1 and 50 is: 650\n"
          ]
        }
      ]
    },
    {
      "cell_type": "markdown",
      "source": [
        "**14.Write a program to reverse a string using a while loop ?**"
      ],
      "metadata": {
        "id": "VgZKk_NIIVGp"
      }
    },
    {
      "cell_type": "code",
      "source": [
        "# Input a string from the user\n",
        "text = input(\"Enter a string: \")\n",
        "\n",
        "# Initialize an index to start from the end of the string\n",
        "i = len(text) - 1\n",
        "\n",
        "# Use a while loop to print characters in reverse order\n",
        "while i >= 0:\n",
        "    print(text[i], end=\"\")  # Print characters without a newline\n",
        "    i -= 1  # Move to the previous character\n"
      ],
      "metadata": {
        "colab": {
          "base_uri": "https://localhost:8080/"
        },
        "id": "5T3l8b8rH3Ix",
        "outputId": "8d60df21-5341-4895-f489-d63b25326b99"
      },
      "execution_count": 50,
      "outputs": [
        {
          "output_type": "stream",
          "name": "stdout",
          "text": [
            "Enter a string: Shams Irshad\n",
            "dahsrI smahS"
          ]
        }
      ]
    },
    {
      "cell_type": "markdown",
      "source": [
        "**15.  Write a Python program to calculate the factorial of a number provided by the user using a while loop ?**"
      ],
      "metadata": {
        "id": "gIdbbqofJuia"
      }
    },
    {
      "cell_type": "code",
      "source": [
        "# Input a number from the user\n",
        "num = int(input(\"Enter a number to calculate its factorial: \"))\n",
        "\n",
        "# Initialize variables\n",
        "factorial = 1\n",
        "i = num\n",
        "\n",
        "# Use a while loop to calculate the factorial\n",
        "while i > 0:\n",
        "    factorial *= i  # Multiply factorial by the current value of i\n",
        "    i -= 1  # Decrease i by 1\n",
        "\n",
        "# Print the result\n",
        "print(f\"The factorial of {num} is: {factorial}\")"
      ],
      "metadata": {
        "colab": {
          "base_uri": "https://localhost:8080/"
        },
        "id": "lqo9dVGZIsBr",
        "outputId": "3094116e-c837-4adc-edf9-502711b1cff5"
      },
      "execution_count": 51,
      "outputs": [
        {
          "output_type": "stream",
          "name": "stdout",
          "text": [
            "Enter a number to calculate its factorial: 8\n",
            "The factorial of 8 is: 40320\n"
          ]
        }
      ]
    }
  ]
}